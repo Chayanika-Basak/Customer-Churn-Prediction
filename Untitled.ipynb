{
 "cells": [
  {
   "cell_type": "code",
   "execution_count": 1,
   "id": "79747443-595c-4ea6-82a2-a6c47d1c973a",
   "metadata": {},
   "outputs": [],
   "source": [
    "import pandas as pd"
   ]
  },
  {
   "cell_type": "code",
   "execution_count": 9,
   "id": "5657488c-3f4e-4bbc-85a9-ad0d765982b3",
   "metadata": {},
   "outputs": [],
   "source": [
    "df = pd.read_excel(r\"C:\\Users\\asus\\Downloads\\Literature Survey.xlsx\")"
   ]
  },
  {
   "cell_type": "code",
   "execution_count": 11,
   "id": "a7e1bdff-2586-479a-b7ad-0e88a26450d9",
   "metadata": {},
   "outputs": [],
   "source": [
    "df['S. No.'] = df['S. No.'].astype('int')"
   ]
  },
  {
   "cell_type": "code",
   "execution_count": 12,
   "id": "1acd0993-c694-46bb-b07d-54f4fbdd7201",
   "metadata": {},
   "outputs": [
    {
     "data": {
      "text/html": [
       "<div>\n",
       "<style scoped>\n",
       "    .dataframe tbody tr th:only-of-type {\n",
       "        vertical-align: middle;\n",
       "    }\n",
       "\n",
       "    .dataframe tbody tr th {\n",
       "        vertical-align: top;\n",
       "    }\n",
       "\n",
       "    .dataframe thead th {\n",
       "        text-align: right;\n",
       "    }\n",
       "</style>\n",
       "<table border=\"1\" class=\"dataframe\">\n",
       "  <thead>\n",
       "    <tr style=\"text-align: right;\">\n",
       "      <th></th>\n",
       "      <th>S. No.</th>\n",
       "      <th>Objective</th>\n",
       "      <th>Dataset</th>\n",
       "      <th>Parameters</th>\n",
       "      <th>Result</th>\n",
       "      <th>Conclusion and Future Scope</th>\n",
       "    </tr>\n",
       "  </thead>\n",
       "  <tbody>\n",
       "    <tr>\n",
       "      <th>0</th>\n",
       "      <td>1</td>\n",
       "      <td>Customer churn prediction using improved balan...</td>\n",
       "      <td>A major Chinese bank provided the database for...</td>\n",
       "      <td>Demographics category: age, education, size of...</td>\n",
       "      <td>The top-decile lift of IBRF is better than tha...</td>\n",
       "      <td>IBRF offers great potential compared to tradi...</td>\n",
       "    </tr>\n",
       "    <tr>\n",
       "      <th>1</th>\n",
       "      <td>2</td>\n",
       "      <td>A Customer Churn Prediction using Pearson\\nCor...</td>\n",
       "      <td>Public dataset from Kaggle dataset (https://ww...</td>\n",
       "      <td>customerID, gender, SeniorCitizen, Partner, De...</td>\n",
       "      <td>The churn prediction using SVM\\ngenerates 83.6...</td>\n",
       "      <td>The comparison of several classifiers will hel...</td>\n",
       "    </tr>\n",
       "    <tr>\n",
       "      <th>2</th>\n",
       "      <td>3</td>\n",
       "      <td>\\nMachine Learning Based Customer Churn Predic...</td>\n",
       "      <td>The dataset used in this analysis was obtained...</td>\n",
       "      <td>Row number, Customer Id, Surname, Credit Score...</td>\n",
       "      <td>that the DT and RF classifiers accuracy increa...</td>\n",
       "      <td>By oversampling, both of these headaches up to...</td>\n",
       "    </tr>\n",
       "  </tbody>\n",
       "</table>\n",
       "</div>"
      ],
      "text/plain": [
       "   S. No.                                          Objective  \\\n",
       "0       1  Customer churn prediction using improved balan...   \n",
       "1       2  A Customer Churn Prediction using Pearson\\nCor...   \n",
       "2       3  \\nMachine Learning Based Customer Churn Predic...   \n",
       "\n",
       "                                             Dataset  \\\n",
       "0  A major Chinese bank provided the database for...   \n",
       "1  Public dataset from Kaggle dataset (https://ww...   \n",
       "2  The dataset used in this analysis was obtained...   \n",
       "\n",
       "                                          Parameters  \\\n",
       "0  Demographics category: age, education, size of...   \n",
       "1  customerID, gender, SeniorCitizen, Partner, De...   \n",
       "2  Row number, Customer Id, Surname, Credit Score...   \n",
       "\n",
       "                                              Result  \\\n",
       "0  The top-decile lift of IBRF is better than tha...   \n",
       "1  The churn prediction using SVM\\ngenerates 83.6...   \n",
       "2  that the DT and RF classifiers accuracy increa...   \n",
       "\n",
       "                         Conclusion and Future Scope  \n",
       "0   IBRF offers great potential compared to tradi...  \n",
       "1  The comparison of several classifiers will hel...  \n",
       "2  By oversampling, both of these headaches up to...  "
      ]
     },
     "execution_count": 12,
     "metadata": {},
     "output_type": "execute_result"
    }
   ],
   "source": [
    "df"
   ]
  },
  {
   "cell_type": "code",
   "execution_count": 17,
   "id": "933e58b6-beab-4a61-a75e-f467aa5a6b67",
   "metadata": {},
   "outputs": [],
   "source": [
    "df.style.to_latex(r'C:\\Users\\asus\\Downloads\\litSurvey.tex')"
   ]
  },
  {
   "cell_type": "code",
   "execution_count": null,
   "id": "d19cb41e-9847-4152-aa2d-debc7fce36aa",
   "metadata": {},
   "outputs": [],
   "source": [
    "# from sklearn.ensemble import GradientBoostingClassifier\n",
    "# model = GradientBoostingClassifier()\n",
    "# model.fit(X_train, y_train)\n",
    "# a = evaluating(model,X_test,y_test)\n",
    "# acc.append(a)"
   ]
  },
  {
   "cell_type": "code",
   "execution_count": null,
   "id": "ce1778b8-3db9-48a0-a4fa-026ac0bfab72",
   "metadata": {},
   "outputs": [],
   "source": [
    "from catboost import CatBoostClassifier\n",
    "model = CatBoostClassifier()\n",
    "model.fit(X_train, y_train)\n",
    "a = evaluating(model,X_test,y_test)\n",
    "acc.append(a)"
   ]
  },
  {
   "cell_type": "code",
   "execution_count": null,
   "id": "11efa7dd-0f7b-42dd-a7ae-9a96b79b24e1",
   "metadata": {},
   "outputs": [],
   "source": [
    "# example of grid searching key hyperparametres for logistic regression\n",
    "from sklearn.datasets import make_blobs\n",
    "from sklearn.model_selection import RepeatedStratifiedKFold\n",
    "from sklearn.model_selection import GridSearchCV\n",
    "from sklearn.linear_model import LogisticRegression\n",
    "# define models and parameters\n",
    "model = LogisticRegression()\n",
    "solvers = ['newton-cg', 'lbfgs', 'liblinear']\n",
    "penalty = ['l2']\n",
    "c_values = [100, 10, 1.0, 0.1, 0.01]\n",
    "# define grid search\n",
    "grid = dict(solver=solvers,penalty=penalty,C=c_values)\n",
    "cv = RepeatedStratifiedKFold(n_splits=10, n_repeats=3, random_state=1)\n",
    "grid_search = GridSearchCV(estimator=model, param_grid=grid, n_jobs=-1, cv=cv, scoring='accuracy',error_score=0)\n",
    "grid_result = grid_search.fit(X_train, y_train)\n",
    "# summarize results\n",
    "print(\"Best: %f using %s\" % (grid_result.best_score_, grid_result.best_params_))\n",
    "means = grid_result.cv_results_['mean_test_score']\n",
    "stds = grid_result.cv_results_['std_test_score']\n",
    "params = grid_result.cv_results_['params']\n",
    "# for mean, stdev, param in zip(means, stds, params):\n",
    "#     print(\"%f (%f) with: %r\" % (mean, stdev, param))"
   ]
  }
 ],
 "metadata": {
  "kernelspec": {
   "display_name": "Python 3 (ipykernel)",
   "language": "python",
   "name": "python3"
  },
  "language_info": {
   "codemirror_mode": {
    "name": "ipython",
    "version": 3
   },
   "file_extension": ".py",
   "mimetype": "text/x-python",
   "name": "python",
   "nbconvert_exporter": "python",
   "pygments_lexer": "ipython3",
   "version": "3.8.13"
  }
 },
 "nbformat": 4,
 "nbformat_minor": 5
}
