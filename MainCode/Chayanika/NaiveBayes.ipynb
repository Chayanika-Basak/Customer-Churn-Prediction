{
 "cells": [
  {
   "cell_type": "code",
   "execution_count": 2,
   "id": "891f4676-127d-4621-bd70-3cea709cef7c",
   "metadata": {},
   "outputs": [],
   "source": [
    "import numpy as np\n",
    "import pandas as pd"
   ]
  },
  {
   "cell_type": "code",
   "execution_count": 3,
   "id": "e1f790aa-c99c-44ab-b2f4-20427ef3d064",
   "metadata": {},
   "outputs": [],
   "source": [
    "df = pd.read_csv(\"C:/Users/asus/Desktop/ITWorkshop/MainCode/kerala.csv\")"
   ]
  },
  {
   "cell_type": "code",
   "execution_count": 4,
   "id": "cdb2af6b-40cc-41cc-a079-7387b8b20e6f",
   "metadata": {},
   "outputs": [
    {
     "data": {
      "text/html": [
       "<div>\n",
       "<style scoped>\n",
       "    .dataframe tbody tr th:only-of-type {\n",
       "        vertical-align: middle;\n",
       "    }\n",
       "\n",
       "    .dataframe tbody tr th {\n",
       "        vertical-align: top;\n",
       "    }\n",
       "\n",
       "    .dataframe thead th {\n",
       "        text-align: right;\n",
       "    }\n",
       "</style>\n",
       "<table border=\"1\" class=\"dataframe\">\n",
       "  <thead>\n",
       "    <tr style=\"text-align: right;\">\n",
       "      <th></th>\n",
       "      <th>SUBDIVISION</th>\n",
       "      <th>YEAR</th>\n",
       "      <th>JAN</th>\n",
       "      <th>FEB</th>\n",
       "      <th>MAR</th>\n",
       "      <th>APR</th>\n",
       "      <th>MAY</th>\n",
       "      <th>JUN</th>\n",
       "      <th>JUL</th>\n",
       "      <th>AUG</th>\n",
       "      <th>SEP</th>\n",
       "      <th>OCT</th>\n",
       "      <th>NOV</th>\n",
       "      <th>DEC</th>\n",
       "      <th>ANNUAL RAINFALL</th>\n",
       "      <th>FLOODS</th>\n",
       "    </tr>\n",
       "  </thead>\n",
       "  <tbody>\n",
       "    <tr>\n",
       "      <th>0</th>\n",
       "      <td>KERALA</td>\n",
       "      <td>1901</td>\n",
       "      <td>28.7</td>\n",
       "      <td>44.7</td>\n",
       "      <td>51.6</td>\n",
       "      <td>160.0</td>\n",
       "      <td>174.7</td>\n",
       "      <td>824.6</td>\n",
       "      <td>743.0</td>\n",
       "      <td>357.5</td>\n",
       "      <td>197.7</td>\n",
       "      <td>266.9</td>\n",
       "      <td>350.8</td>\n",
       "      <td>48.4</td>\n",
       "      <td>3248.6</td>\n",
       "      <td>YES</td>\n",
       "    </tr>\n",
       "    <tr>\n",
       "      <th>1</th>\n",
       "      <td>KERALA</td>\n",
       "      <td>1902</td>\n",
       "      <td>6.7</td>\n",
       "      <td>2.6</td>\n",
       "      <td>57.3</td>\n",
       "      <td>83.9</td>\n",
       "      <td>134.5</td>\n",
       "      <td>390.9</td>\n",
       "      <td>1205.0</td>\n",
       "      <td>315.8</td>\n",
       "      <td>491.6</td>\n",
       "      <td>358.4</td>\n",
       "      <td>158.3</td>\n",
       "      <td>121.5</td>\n",
       "      <td>3326.6</td>\n",
       "      <td>YES</td>\n",
       "    </tr>\n",
       "    <tr>\n",
       "      <th>2</th>\n",
       "      <td>KERALA</td>\n",
       "      <td>1903</td>\n",
       "      <td>3.2</td>\n",
       "      <td>18.6</td>\n",
       "      <td>3.1</td>\n",
       "      <td>83.6</td>\n",
       "      <td>249.7</td>\n",
       "      <td>558.6</td>\n",
       "      <td>1022.5</td>\n",
       "      <td>420.2</td>\n",
       "      <td>341.8</td>\n",
       "      <td>354.1</td>\n",
       "      <td>157.0</td>\n",
       "      <td>59.0</td>\n",
       "      <td>3271.2</td>\n",
       "      <td>YES</td>\n",
       "    </tr>\n",
       "    <tr>\n",
       "      <th>3</th>\n",
       "      <td>KERALA</td>\n",
       "      <td>1904</td>\n",
       "      <td>23.7</td>\n",
       "      <td>3.0</td>\n",
       "      <td>32.2</td>\n",
       "      <td>71.5</td>\n",
       "      <td>235.7</td>\n",
       "      <td>1098.2</td>\n",
       "      <td>725.5</td>\n",
       "      <td>351.8</td>\n",
       "      <td>222.7</td>\n",
       "      <td>328.1</td>\n",
       "      <td>33.9</td>\n",
       "      <td>3.3</td>\n",
       "      <td>3129.7</td>\n",
       "      <td>YES</td>\n",
       "    </tr>\n",
       "    <tr>\n",
       "      <th>4</th>\n",
       "      <td>KERALA</td>\n",
       "      <td>1905</td>\n",
       "      <td>1.2</td>\n",
       "      <td>22.3</td>\n",
       "      <td>9.4</td>\n",
       "      <td>105.9</td>\n",
       "      <td>263.3</td>\n",
       "      <td>850.2</td>\n",
       "      <td>520.5</td>\n",
       "      <td>293.6</td>\n",
       "      <td>217.2</td>\n",
       "      <td>383.5</td>\n",
       "      <td>74.4</td>\n",
       "      <td>0.2</td>\n",
       "      <td>2741.6</td>\n",
       "      <td>NO</td>\n",
       "    </tr>\n",
       "  </tbody>\n",
       "</table>\n",
       "</div>"
      ],
      "text/plain": [
       "  SUBDIVISION  YEAR   JAN   FEB   MAR    APR    MAY     JUN     JUL    AUG  \\\n",
       "0      KERALA  1901  28.7  44.7  51.6  160.0  174.7   824.6   743.0  357.5   \n",
       "1      KERALA  1902   6.7   2.6  57.3   83.9  134.5   390.9  1205.0  315.8   \n",
       "2      KERALA  1903   3.2  18.6   3.1   83.6  249.7   558.6  1022.5  420.2   \n",
       "3      KERALA  1904  23.7   3.0  32.2   71.5  235.7  1098.2   725.5  351.8   \n",
       "4      KERALA  1905   1.2  22.3   9.4  105.9  263.3   850.2   520.5  293.6   \n",
       "\n",
       "     SEP    OCT    NOV    DEC   ANNUAL RAINFALL FLOODS  \n",
       "0  197.7  266.9  350.8   48.4            3248.6    YES  \n",
       "1  491.6  358.4  158.3  121.5            3326.6    YES  \n",
       "2  341.8  354.1  157.0   59.0            3271.2    YES  \n",
       "3  222.7  328.1   33.9    3.3            3129.7    YES  \n",
       "4  217.2  383.5   74.4    0.2            2741.6     NO  "
      ]
     },
     "execution_count": 4,
     "metadata": {},
     "output_type": "execute_result"
    }
   ],
   "source": [
    "df.head()"
   ]
  },
  {
   "cell_type": "code",
   "execution_count": 5,
   "id": "da24330c-be25-4686-ac7b-9637f19d202a",
   "metadata": {},
   "outputs": [],
   "source": [
    "df = df.drop(['SUBDIVISION','YEAR'],axis=1)"
   ]
  },
  {
   "cell_type": "code",
   "execution_count": 6,
   "id": "4996b9e6-96b3-4175-a59b-75a3574e88ea",
   "metadata": {},
   "outputs": [],
   "source": [
    "df.columns = [x.lower() for x in df.columns]"
   ]
  },
  {
   "cell_type": "code",
   "execution_count": 7,
   "id": "a5280b6d-aa98-45fc-9592-014316aadd65",
   "metadata": {},
   "outputs": [],
   "source": [
    "df.rename(columns={' annual rainfall':'annual rainfall'}, inplace=True)"
   ]
  },
  {
   "cell_type": "code",
   "execution_count": 8,
   "id": "1ccd5560-7082-4479-be94-f1cf22cf4d83",
   "metadata": {},
   "outputs": [],
   "source": [
    "df['floods'] = [1 if x=='YES' else 0 for x in df['floods']]"
   ]
  },
  {
   "cell_type": "code",
   "execution_count": 9,
   "id": "3458a249-306e-41d1-b100-f032fabd4795",
   "metadata": {},
   "outputs": [],
   "source": [
    "df = df.sort_values(by='floods').reset_index()"
   ]
  },
  {
   "cell_type": "code",
   "execution_count": 10,
   "id": "e05fc22e-bf42-47be-9e16-db1f6de573b8",
   "metadata": {},
   "outputs": [
    {
     "data": {
      "text/html": [
       "<div>\n",
       "<style scoped>\n",
       "    .dataframe tbody tr th:only-of-type {\n",
       "        vertical-align: middle;\n",
       "    }\n",
       "\n",
       "    .dataframe tbody tr th {\n",
       "        vertical-align: top;\n",
       "    }\n",
       "\n",
       "    .dataframe thead th {\n",
       "        text-align: right;\n",
       "    }\n",
       "</style>\n",
       "<table border=\"1\" class=\"dataframe\">\n",
       "  <thead>\n",
       "    <tr style=\"text-align: right;\">\n",
       "      <th></th>\n",
       "      <th>index</th>\n",
       "      <th>jan</th>\n",
       "      <th>feb</th>\n",
       "      <th>mar</th>\n",
       "      <th>apr</th>\n",
       "      <th>may</th>\n",
       "      <th>jun</th>\n",
       "      <th>jul</th>\n",
       "      <th>aug</th>\n",
       "      <th>sep</th>\n",
       "      <th>oct</th>\n",
       "      <th>nov</th>\n",
       "      <th>dec</th>\n",
       "      <th>annual rainfall</th>\n",
       "      <th>floods</th>\n",
       "    </tr>\n",
       "  </thead>\n",
       "  <tbody>\n",
       "    <tr>\n",
       "      <th>58</th>\n",
       "      <td>106</td>\n",
       "      <td>0.5</td>\n",
       "      <td>5.6</td>\n",
       "      <td>7.3</td>\n",
       "      <td>138.5</td>\n",
       "      <td>192.7</td>\n",
       "      <td>705.9</td>\n",
       "      <td>966.3</td>\n",
       "      <td>489.6</td>\n",
       "      <td>526.7</td>\n",
       "      <td>357.2</td>\n",
       "      <td>87.4</td>\n",
       "      <td>11.9</td>\n",
       "      <td>3489.6</td>\n",
       "      <td>1</td>\n",
       "    </tr>\n",
       "    <tr>\n",
       "      <th>59</th>\n",
       "      <td>96</td>\n",
       "      <td>2.1</td>\n",
       "      <td>1.5</td>\n",
       "      <td>36.1</td>\n",
       "      <td>60.6</td>\n",
       "      <td>133.6</td>\n",
       "      <td>544.2</td>\n",
       "      <td>970.5</td>\n",
       "      <td>536.0</td>\n",
       "      <td>292.2</td>\n",
       "      <td>288.9</td>\n",
       "      <td>298.4</td>\n",
       "      <td>88.4</td>\n",
       "      <td>3252.4</td>\n",
       "      <td>1</td>\n",
       "    </tr>\n",
       "    <tr>\n",
       "      <th>60</th>\n",
       "      <td>97</td>\n",
       "      <td>6.0</td>\n",
       "      <td>2.1</td>\n",
       "      <td>8.1</td>\n",
       "      <td>61.1</td>\n",
       "      <td>151.6</td>\n",
       "      <td>732.5</td>\n",
       "      <td>641.4</td>\n",
       "      <td>371.8</td>\n",
       "      <td>517.6</td>\n",
       "      <td>444.8</td>\n",
       "      <td>135.0</td>\n",
       "      <td>79.4</td>\n",
       "      <td>3151.5</td>\n",
       "      <td>1</td>\n",
       "    </tr>\n",
       "    <tr>\n",
       "      <th>61</th>\n",
       "      <td>113</td>\n",
       "      <td>4.6</td>\n",
       "      <td>10.3</td>\n",
       "      <td>17.9</td>\n",
       "      <td>95.7</td>\n",
       "      <td>251.0</td>\n",
       "      <td>454.4</td>\n",
       "      <td>677.8</td>\n",
       "      <td>733.9</td>\n",
       "      <td>298.8</td>\n",
       "      <td>355.5</td>\n",
       "      <td>99.5</td>\n",
       "      <td>47.2</td>\n",
       "      <td>3046.4</td>\n",
       "      <td>1</td>\n",
       "    </tr>\n",
       "    <tr>\n",
       "      <th>62</th>\n",
       "      <td>76</td>\n",
       "      <td>1.1</td>\n",
       "      <td>15.7</td>\n",
       "      <td>28.3</td>\n",
       "      <td>102.3</td>\n",
       "      <td>306.4</td>\n",
       "      <td>599.6</td>\n",
       "      <td>753.3</td>\n",
       "      <td>234.2</td>\n",
       "      <td>201.3</td>\n",
       "      <td>437.0</td>\n",
       "      <td>361.7</td>\n",
       "      <td>6.7</td>\n",
       "      <td>3047.6</td>\n",
       "      <td>1</td>\n",
       "    </tr>\n",
       "  </tbody>\n",
       "</table>\n",
       "</div>"
      ],
      "text/plain": [
       "    index  jan   feb   mar    apr    may    jun    jul    aug    sep    oct  \\\n",
       "58    106  0.5   5.6   7.3  138.5  192.7  705.9  966.3  489.6  526.7  357.2   \n",
       "59     96  2.1   1.5  36.1   60.6  133.6  544.2  970.5  536.0  292.2  288.9   \n",
       "60     97  6.0   2.1   8.1   61.1  151.6  732.5  641.4  371.8  517.6  444.8   \n",
       "61    113  4.6  10.3  17.9   95.7  251.0  454.4  677.8  733.9  298.8  355.5   \n",
       "62     76  1.1  15.7  28.3  102.3  306.4  599.6  753.3  234.2  201.3  437.0   \n",
       "\n",
       "      nov   dec  annual rainfall  floods  \n",
       "58   87.4  11.9           3489.6       1  \n",
       "59  298.4  88.4           3252.4       1  \n",
       "60  135.0  79.4           3151.5       1  \n",
       "61   99.5  47.2           3046.4       1  \n",
       "62  361.7   6.7           3047.6       1  "
      ]
     },
     "execution_count": 10,
     "metadata": {},
     "output_type": "execute_result"
    }
   ],
   "source": [
    "df[df['floods']==1].head()"
   ]
  },
  {
   "cell_type": "code",
   "execution_count": 11,
   "id": "0e6f75a0-23ef-4ffc-9316-cd093d92c28c",
   "metadata": {},
   "outputs": [],
   "source": [
    "def class_separation(df):\n",
    "    df=df.sort_values(by='floods').reset_index()\n",
    "    df_zeros = df.iloc[0:58]\n",
    "    df_zeros = df_zeros.drop('index',axis=1)\n",
    "    df_ones = df.iloc[58:]\n",
    "    df_ones = df_ones.drop('index',axis=1)\n",
    "    seps = {0:df_zeros, 1:df_ones}\n",
    "    return seps"
   ]
  },
  {
   "cell_type": "code",
   "execution_count": 12,
   "id": "478d17f1-67ea-4f7a-a22b-9b76f9e786c8",
   "metadata": {},
   "outputs": [],
   "source": [
    "seps = class_separation(df)"
   ]
  },
  {
   "cell_type": "code",
   "execution_count": 13,
   "id": "560508e8-8d65-4ed2-9089-a002ed8ca7a1",
   "metadata": {},
   "outputs": [
    {
     "data": {
      "text/plain": [
       "index                int64\n",
       "jan                float64\n",
       "feb                float64\n",
       "mar                float64\n",
       "apr                float64\n",
       "may                float64\n",
       "jun                float64\n",
       "jul                float64\n",
       "aug                float64\n",
       "sep                float64\n",
       "oct                float64\n",
       "nov                float64\n",
       "dec                float64\n",
       "annual rainfall    float64\n",
       "floods               int64\n",
       "dtype: object"
      ]
     },
     "execution_count": 13,
     "metadata": {},
     "output_type": "execute_result"
    }
   ],
   "source": [
    "df.dtypes"
   ]
  },
  {
   "cell_type": "code",
   "execution_count": 14,
   "id": "a2ee2ec5-958c-4fbd-9c62-8a785516fba1",
   "metadata": {},
   "outputs": [
    {
     "data": {
      "text/plain": [
       "(15,)"
      ]
     },
     "execution_count": 14,
     "metadata": {},
     "output_type": "execute_result"
    }
   ],
   "source": [
    "df.columns.shape"
   ]
  },
  {
   "cell_type": "code",
   "execution_count": 15,
   "id": "08171be4-df86-40dc-91b1-3a16071ce94c",
   "metadata": {},
   "outputs": [],
   "source": [
    "def summarize(df):\n",
    "    summaries = []\n",
    "    for col in df.columns[1:15]:\n",
    "        summaries.append([np.mean(df[col]),np.std(df[col]),len(df[col])])\n",
    "    return summaries"
   ]
  },
  {
   "cell_type": "code",
   "execution_count": 16,
   "id": "ecf1e763-272e-41fc-9c81-e8ad743e7c52",
   "metadata": {},
   "outputs": [
    {
     "data": {
      "text/plain": [
       "[[12.218644067796609, 15.408059464661102, 118],\n",
       " [15.633898305084744, 16.33662424073219, 118],\n",
       " [36.67033898305084, 29.936201397678673, 118],\n",
       " [110.33050847457626, 44.44392488364959, 118],\n",
       " [228.64491525423728, 146.92224081815087, 118],\n",
       " [651.6177966101694, 185.39078041515896, 118],\n",
       " [698.2203389830509, 228.01660902904734, 118],\n",
       " [430.36949152542377, 181.20771839197744, 118],\n",
       " [246.20762711864407, 121.3835021856101, 118],\n",
       " [293.20762711864404, 93.30735175204366, 118],\n",
       " [162.31101694915256, 82.84719013053574, 118],\n",
       " [40.00932203389831, 36.52059086553065, 118],\n",
       " [2925.405084745762, 450.24935818989957, 118],\n",
       " [0.5084745762711864, 0.49992817639839404, 118]]"
      ]
     },
     "execution_count": 16,
     "metadata": {},
     "output_type": "execute_result"
    }
   ],
   "source": [
    "summarize(df)"
   ]
  },
  {
   "cell_type": "code",
   "execution_count": 17,
   "id": "e4dac814-e168-4aa5-873d-2044c3c9aac6",
   "metadata": {},
   "outputs": [],
   "source": [
    "def class_summary(df):\n",
    "\tseps = class_separation(df)\n",
    "\tsummaries = {}\n",
    "\tfor class_value, rows in seps.items():\n",
    "\t\tsummaries[class_value] = summarize(rows)\n",
    "\treturn summaries"
   ]
  },
  {
   "cell_type": "code",
   "execution_count": 18,
   "id": "6184bdb0-1911-42a2-a84b-37cf2985f2bc",
   "metadata": {},
   "outputs": [],
   "source": [
    "summary = class_summary(df)"
   ]
  },
  {
   "cell_type": "code",
   "execution_count": 19,
   "id": "9b74820a-2a42-4198-9760-80f1842ee2a3",
   "metadata": {},
   "outputs": [],
   "source": [
    "summary[0] = summary[0][:-1]\n",
    "summary[1] = summary[1][:-1]"
   ]
  },
  {
   "cell_type": "code",
   "execution_count": 20,
   "id": "015fc7ab-1690-4aeb-a0da-7ea1f6b14f64",
   "metadata": {},
   "outputs": [
    {
     "data": {
      "text/plain": [
       "{0: [[9.941379310344827, 14.947783072655225, 58],\n",
       "  [16.22758620689655, 18.14722162740877, 58],\n",
       "  [34.029310344827586, 32.39160176714972, 58],\n",
       "  [108.77586206896552, 47.11800413761187, 58],\n",
       "  [192.36034482758623, 129.45696654134915, 58],\n",
       "  [568.1741379310346, 148.4096736324998, 58],\n",
       "  [595.5344827586207, 197.85849310478937, 58],\n",
       "  [377.5310344827586, 108.10199080577205, 58],\n",
       "  [199.73965517241382, 102.8424773700305, 58],\n",
       "  [287.50517241379316, 93.96865475622396, 58],\n",
       "  [142.1844827586207, 69.7332103182134, 58],\n",
       "  [37.991379310344826, 36.142406482874996, 58],\n",
       "  [2569.9327586206896, 226.92298054469177, 58]],\n",
       " 1: [[14.419999999999998, 15.525965348409096, 60],\n",
       "  [15.059999999999999, 14.347824457619582, 60],\n",
       "  [39.223333333333336, 27.110467638083186, 60],\n",
       "  [111.8333333333333, 41.641148185685545, 60],\n",
       "  [263.71999999999997, 154.10819662388715, 60],\n",
       "  [732.28, 181.8390339466933, 60],\n",
       "  [797.4833333333333, 210.6205056230017, 60],\n",
       "  [481.4466666666667, 219.02901745862098, 60],\n",
       "  [291.1266666666667, 121.02783958889606, 60],\n",
       "  [298.72, 92.3294297610464, 60],\n",
       "  [181.76666666666662, 89.59798112804899, 60],\n",
       "  [41.96, 36.777385261416654, 60],\n",
       "  [3269.0283333333336, 329.67927247132513, 60]]}"
      ]
     },
     "execution_count": 20,
     "metadata": {},
     "output_type": "execute_result"
    }
   ],
   "source": [
    "summary"
   ]
  },
  {
   "cell_type": "code",
   "execution_count": 21,
   "id": "5330af65-8175-4ba4-878b-767d4728e95c",
   "metadata": {},
   "outputs": [],
   "source": [
    "from math import sqrt\n",
    "from math import pi\n",
    "from math import exp\n",
    "def calculate_probability(x, mean, stdev):\n",
    "    exponent = exp(-((x-mean)**2 / (2 * stdev**2 )))\n",
    "    return (1 / (sqrt(2 * pi) * stdev)) * exponent"
   ]
  },
  {
   "cell_type": "code",
   "execution_count": 46,
   "id": "bcc4f352-26d9-4e6a-bde8-16ec26444804",
   "metadata": {},
   "outputs": [],
   "source": [
    "def calculate_class_probabilities(summaries, row):\n",
    "    total_rows = sum([summaries[label][0][2] for label in summaries])\n",
    "    probabilities = dict()\n",
    "    for class_value, class_summaries in summaries.items():\n",
    "        probabilities[class_value] = summaries[class_value][0][2]/float(total_rows)\n",
    "        for i in range(len(class_summaries)):\n",
    "            mean, stdev, _ = class_summaries[i]\n",
    "            probabilities[class_value] *= calculate_probability(row[i], mean, stdev)\n",
    "    return probabilities"
   ]
  },
  {
   "cell_type": "code",
   "execution_count": 47,
   "id": "3725d72d-e2c1-4a61-9cf8-7b9630652941",
   "metadata": {},
   "outputs": [
    {
     "name": "stdout",
     "output_type": "stream",
     "text": [
      "{0: 6.656778225423647e-72, 1: 9.099746446576041e-60}\n"
     ]
    }
   ],
   "source": [
    "probabilities = calculate_class_probabilities(summary, df.iloc[0].values.tolist())\n",
    "print(probabilities)"
   ]
  },
  {
   "cell_type": "code",
   "execution_count": 24,
   "id": "9a69109b-66b9-4850-83c3-cf355d850eb7",
   "metadata": {},
   "outputs": [
    {
     "data": {
      "text/html": [
       "<div>\n",
       "<style scoped>\n",
       "    .dataframe tbody tr th:only-of-type {\n",
       "        vertical-align: middle;\n",
       "    }\n",
       "\n",
       "    .dataframe tbody tr th {\n",
       "        vertical-align: top;\n",
       "    }\n",
       "\n",
       "    .dataframe thead th {\n",
       "        text-align: right;\n",
       "    }\n",
       "</style>\n",
       "<table border=\"1\" class=\"dataframe\">\n",
       "  <thead>\n",
       "    <tr style=\"text-align: right;\">\n",
       "      <th></th>\n",
       "      <th>index</th>\n",
       "      <th>jan</th>\n",
       "      <th>feb</th>\n",
       "      <th>mar</th>\n",
       "      <th>apr</th>\n",
       "      <th>may</th>\n",
       "      <th>jun</th>\n",
       "      <th>jul</th>\n",
       "      <th>aug</th>\n",
       "      <th>sep</th>\n",
       "      <th>oct</th>\n",
       "      <th>nov</th>\n",
       "      <th>dec</th>\n",
       "      <th>annual rainfall</th>\n",
       "      <th>floods</th>\n",
       "    </tr>\n",
       "  </thead>\n",
       "  <tbody>\n",
       "    <tr>\n",
       "      <th>58</th>\n",
       "      <td>106</td>\n",
       "      <td>0.5</td>\n",
       "      <td>5.6</td>\n",
       "      <td>7.3</td>\n",
       "      <td>138.5</td>\n",
       "      <td>192.7</td>\n",
       "      <td>705.9</td>\n",
       "      <td>966.3</td>\n",
       "      <td>489.6</td>\n",
       "      <td>526.7</td>\n",
       "      <td>357.2</td>\n",
       "      <td>87.4</td>\n",
       "      <td>11.9</td>\n",
       "      <td>3489.6</td>\n",
       "      <td>1</td>\n",
       "    </tr>\n",
       "    <tr>\n",
       "      <th>59</th>\n",
       "      <td>96</td>\n",
       "      <td>2.1</td>\n",
       "      <td>1.5</td>\n",
       "      <td>36.1</td>\n",
       "      <td>60.6</td>\n",
       "      <td>133.6</td>\n",
       "      <td>544.2</td>\n",
       "      <td>970.5</td>\n",
       "      <td>536.0</td>\n",
       "      <td>292.2</td>\n",
       "      <td>288.9</td>\n",
       "      <td>298.4</td>\n",
       "      <td>88.4</td>\n",
       "      <td>3252.4</td>\n",
       "      <td>1</td>\n",
       "    </tr>\n",
       "    <tr>\n",
       "      <th>60</th>\n",
       "      <td>97</td>\n",
       "      <td>6.0</td>\n",
       "      <td>2.1</td>\n",
       "      <td>8.1</td>\n",
       "      <td>61.1</td>\n",
       "      <td>151.6</td>\n",
       "      <td>732.5</td>\n",
       "      <td>641.4</td>\n",
       "      <td>371.8</td>\n",
       "      <td>517.6</td>\n",
       "      <td>444.8</td>\n",
       "      <td>135.0</td>\n",
       "      <td>79.4</td>\n",
       "      <td>3151.5</td>\n",
       "      <td>1</td>\n",
       "    </tr>\n",
       "    <tr>\n",
       "      <th>61</th>\n",
       "      <td>113</td>\n",
       "      <td>4.6</td>\n",
       "      <td>10.3</td>\n",
       "      <td>17.9</td>\n",
       "      <td>95.7</td>\n",
       "      <td>251.0</td>\n",
       "      <td>454.4</td>\n",
       "      <td>677.8</td>\n",
       "      <td>733.9</td>\n",
       "      <td>298.8</td>\n",
       "      <td>355.5</td>\n",
       "      <td>99.5</td>\n",
       "      <td>47.2</td>\n",
       "      <td>3046.4</td>\n",
       "      <td>1</td>\n",
       "    </tr>\n",
       "    <tr>\n",
       "      <th>62</th>\n",
       "      <td>76</td>\n",
       "      <td>1.1</td>\n",
       "      <td>15.7</td>\n",
       "      <td>28.3</td>\n",
       "      <td>102.3</td>\n",
       "      <td>306.4</td>\n",
       "      <td>599.6</td>\n",
       "      <td>753.3</td>\n",
       "      <td>234.2</td>\n",
       "      <td>201.3</td>\n",
       "      <td>437.0</td>\n",
       "      <td>361.7</td>\n",
       "      <td>6.7</td>\n",
       "      <td>3047.6</td>\n",
       "      <td>1</td>\n",
       "    </tr>\n",
       "  </tbody>\n",
       "</table>\n",
       "</div>"
      ],
      "text/plain": [
       "    index  jan   feb   mar    apr    may    jun    jul    aug    sep    oct  \\\n",
       "58    106  0.5   5.6   7.3  138.5  192.7  705.9  966.3  489.6  526.7  357.2   \n",
       "59     96  2.1   1.5  36.1   60.6  133.6  544.2  970.5  536.0  292.2  288.9   \n",
       "60     97  6.0   2.1   8.1   61.1  151.6  732.5  641.4  371.8  517.6  444.8   \n",
       "61    113  4.6  10.3  17.9   95.7  251.0  454.4  677.8  733.9  298.8  355.5   \n",
       "62     76  1.1  15.7  28.3  102.3  306.4  599.6  753.3  234.2  201.3  437.0   \n",
       "\n",
       "      nov   dec  annual rainfall  floods  \n",
       "58   87.4  11.9           3489.6       1  \n",
       "59  298.4  88.4           3252.4       1  \n",
       "60  135.0  79.4           3151.5       1  \n",
       "61   99.5  47.2           3046.4       1  \n",
       "62  361.7   6.7           3047.6       1  "
      ]
     },
     "execution_count": 24,
     "metadata": {},
     "output_type": "execute_result"
    }
   ],
   "source": [
    "df[df['floods']==1].head()"
   ]
  },
  {
   "cell_type": "code",
   "execution_count": 49,
   "id": "ee245234-8558-43c2-a8ac-db800deca3e4",
   "metadata": {},
   "outputs": [
    {
     "name": "stdout",
     "output_type": "stream",
     "text": [
      "[1, 1, 1, 1, 1, 1, 1, 1, 1, 1, 1, 1, 1, 1, 1, 1, 1, 1, 1, 1, 1, 1, 1, 1, 1, 1, 1, 1, 1, 1, 1, 1, 1, 1, 1, 1, 1, 1, 1, 1, 1, 1, 1, 1, 1, 1, 1, 1, 1, 1, 1, 1, 1, 1, 1, 1, 1, 1, 1, 1, 1, 1, 1, 1, 1, 1, 1, 1, 1, 1, 1, 1, 1, 1, 1, 1, 1, 1, 1, 1, 1, 1, 1, 1, 1, 1, 1, 1, 1, 1, 1, 1, 1, 1, 1, 1, 1, 1, 1, 1, 1, 1, 1, 1, 1, 1, 1, 1, 1, 1, 1, 1, 1, 1, 1, 1, 1, 1]\n"
     ]
    }
   ],
   "source": [
    "pred = []\n",
    "for i in range(118):\n",
    "    ans = calculate_class_probabilities(summary, df.iloc[i].values.tolist())\n",
    "    if(ans[0]>=ans[1]):\n",
    "        pred.append(0)\n",
    "    else:\n",
    "        pred.append(1)\n",
    "print(pred)"
   ]
  },
  {
   "cell_type": "code",
   "execution_count": 42,
   "id": "d8cb3595-aed8-474a-b542-604337a63595",
   "metadata": {},
   "outputs": [
    {
     "data": {
      "text/plain": [
       "dict"
      ]
     },
     "execution_count": 42,
     "metadata": {},
     "output_type": "execute_result"
    }
   ],
   "source": [
    "type(probabilities)"
   ]
  },
  {
   "cell_type": "code",
   "execution_count": 50,
   "id": "c3470d98-3a20-4756-b3ea-2fdd238e35d2",
   "metadata": {},
   "outputs": [],
   "source": [
    "test = df['floods'].values.tolist()"
   ]
  },
  {
   "cell_type": "code",
   "execution_count": 51,
   "id": "490a85ef-6e33-4e1c-8399-b155e5a45e65",
   "metadata": {},
   "outputs": [
    {
     "data": {
      "text/plain": [
       "[0,\n",
       " 0,\n",
       " 0,\n",
       " 0,\n",
       " 0,\n",
       " 0,\n",
       " 0,\n",
       " 0,\n",
       " 0,\n",
       " 0,\n",
       " 0,\n",
       " 0,\n",
       " 0,\n",
       " 0,\n",
       " 0,\n",
       " 0,\n",
       " 0,\n",
       " 0,\n",
       " 0,\n",
       " 0,\n",
       " 0,\n",
       " 0,\n",
       " 0,\n",
       " 0,\n",
       " 0,\n",
       " 0,\n",
       " 0,\n",
       " 0,\n",
       " 0,\n",
       " 0,\n",
       " 0,\n",
       " 0,\n",
       " 0,\n",
       " 0,\n",
       " 0,\n",
       " 0,\n",
       " 0,\n",
       " 0,\n",
       " 0,\n",
       " 0,\n",
       " 0,\n",
       " 0,\n",
       " 0,\n",
       " 0,\n",
       " 0,\n",
       " 0,\n",
       " 0,\n",
       " 0,\n",
       " 0,\n",
       " 0,\n",
       " 0,\n",
       " 0,\n",
       " 0,\n",
       " 0,\n",
       " 0,\n",
       " 0,\n",
       " 0,\n",
       " 0,\n",
       " 1,\n",
       " 1,\n",
       " 1,\n",
       " 1,\n",
       " 1,\n",
       " 1,\n",
       " 1,\n",
       " 1,\n",
       " 1,\n",
       " 1,\n",
       " 1,\n",
       " 1,\n",
       " 1,\n",
       " 1,\n",
       " 1,\n",
       " 1,\n",
       " 1,\n",
       " 1,\n",
       " 1,\n",
       " 1,\n",
       " 1,\n",
       " 1,\n",
       " 1,\n",
       " 1,\n",
       " 1,\n",
       " 1,\n",
       " 1,\n",
       " 1,\n",
       " 1,\n",
       " 1,\n",
       " 1,\n",
       " 1,\n",
       " 1,\n",
       " 1,\n",
       " 1,\n",
       " 1,\n",
       " 1,\n",
       " 1,\n",
       " 1,\n",
       " 1,\n",
       " 1,\n",
       " 1,\n",
       " 1,\n",
       " 1,\n",
       " 1,\n",
       " 1,\n",
       " 1,\n",
       " 1,\n",
       " 1,\n",
       " 1,\n",
       " 1,\n",
       " 1,\n",
       " 1,\n",
       " 1,\n",
       " 1,\n",
       " 1,\n",
       " 1,\n",
       " 1,\n",
       " 1,\n",
       " 1]"
      ]
     },
     "execution_count": 51,
     "metadata": {},
     "output_type": "execute_result"
    }
   ],
   "source": [
    "test"
   ]
  },
  {
   "cell_type": "code",
   "execution_count": 52,
   "id": "cb72877a-6334-493c-a962-a67ef3dc3e48",
   "metadata": {},
   "outputs": [
    {
     "data": {
      "text/plain": [
       "0.5084745762711864"
      ]
     },
     "execution_count": 52,
     "metadata": {},
     "output_type": "execute_result"
    }
   ],
   "source": [
    "from sklearn.metrics import accuracy_score\n",
    "accuracy_score(test, pred)"
   ]
  },
  {
   "cell_type": "code",
   "execution_count": null,
   "id": "ea316c3e-fc13-40b1-9f40-14dc8b7527ba",
   "metadata": {},
   "outputs": [],
   "source": []
  }
 ],
 "metadata": {
  "kernelspec": {
   "display_name": "Python 3 (ipykernel)",
   "language": "python",
   "name": "python3"
  },
  "language_info": {
   "codemirror_mode": {
    "name": "ipython",
    "version": 3
   },
   "file_extension": ".py",
   "mimetype": "text/x-python",
   "name": "python",
   "nbconvert_exporter": "python",
   "pygments_lexer": "ipython3",
   "version": "3.8.13"
  }
 },
 "nbformat": 4,
 "nbformat_minor": 5
}
